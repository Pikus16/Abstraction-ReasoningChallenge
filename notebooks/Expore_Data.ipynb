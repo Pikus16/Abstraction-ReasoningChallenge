{
 "cells": [
  {
   "cell_type": "markdown",
   "metadata": {},
   "source": [
    "This is a really simple notebook just exploring what the data looks like"
   ]
  },
  {
   "cell_type": "code",
   "execution_count": 16,
   "metadata": {},
   "outputs": [],
   "source": [
    "# Imports\n",
    "import glob\n",
    "import os\n",
    "import json\n",
    "import numpy as np\n",
    "import matplotlib.pyplot as plt\n",
    "from matplotlib import colors"
   ]
  },
  {
   "cell_type": "code",
   "execution_count": 4,
   "metadata": {},
   "outputs": [],
   "source": [
    "# Where the data downloaded from Kaggle sits\n",
    "data_dir = '../data'"
   ]
  },
  {
   "cell_type": "code",
   "execution_count": 5,
   "metadata": {},
   "outputs": [
    {
     "data": {
      "text/plain": [
       "['../data/training/d0f5fe59.json',\n",
       " '../data/training/2013d3e2.json',\n",
       " '../data/training/f35d900a.json',\n",
       " '../data/training/aba27056.json',\n",
       " '../data/training/23b5c85d.json',\n",
       " '../data/training/d06dbe63.json',\n",
       " '../data/training/6d0aefbc.json',\n",
       " '../data/training/bd4472b8.json',\n",
       " '../data/training/d22278a0.json',\n",
       " '../data/training/7468f01a.json']"
      ]
     },
     "execution_count": 5,
     "metadata": {},
     "output_type": "execute_result"
    }
   ],
   "source": [
    "# Get training files\n",
    "files = glob.glob(os.path.join(data_dir,\"training\",\"*.json\"))\n",
    "files[0:10]"
   ]
  },
  {
   "cell_type": "markdown",
   "metadata": {},
   "source": [
    "Let's load in one of the json files. \n",
    "\n",
    "From the competition site (https://www.kaggle.com/c/abstraction-and-reasoning-challenge/data): \n",
    "\n",
    "    Each task JSON file contains a dictionary with two fields:\n",
    "\n",
    "    \"train\": demonstration input/output pairs. It is a list of \"pairs\" (typically 3 pairs).\n",
    "    \"test\": test input/output pairs. It is a list of \"pairs\" (typically 1 pair).\n",
    "    A \"pair\" is a dictionary with two fields: - \"input\": the input \"grid\" for the pair. - \"output\": the output \"grid\" for the pair.\n",
    "\n",
    "    A \"grid\" is a rectangular matrix (list of lists) of integers between 0 and 9 (inclusive). The smallest possible grid size is 1x1 and the largest is 30x30."
   ]
  },
  {
   "cell_type": "code",
   "execution_count": 6,
   "metadata": {},
   "outputs": [
    {
     "data": {
      "text/plain": [
       "{'train': [{'input': [[0, 0, 0, 0, 0, 0, 0, 0, 0, 0],\n",
       "    [0, 0, 8, 8, 0, 0, 0, 0, 0, 0],\n",
       "    [0, 0, 8, 8, 0, 0, 0, 0, 0, 0],\n",
       "    [0, 8, 8, 8, 0, 0, 0, 0, 0, 0],\n",
       "    [0, 0, 8, 0, 0, 0, 0, 0, 0, 0],\n",
       "    [0, 0, 0, 0, 0, 0, 0, 0, 0, 0],\n",
       "    [0, 0, 0, 0, 0, 8, 8, 0, 0, 0],\n",
       "    [0, 0, 0, 0, 8, 8, 8, 0, 0, 0],\n",
       "    [0, 0, 0, 0, 0, 0, 8, 0, 0, 0],\n",
       "    [0, 0, 0, 0, 0, 0, 0, 0, 0, 0],\n",
       "    [0, 0, 0, 8, 8, 0, 0, 0, 0, 0],\n",
       "    [0, 8, 8, 8, 0, 0, 0, 0, 0, 0],\n",
       "    [0, 0, 0, 8, 0, 0, 0, 8, 8, 0],\n",
       "    [0, 0, 0, 0, 0, 0, 0, 8, 8, 0],\n",
       "    [0, 0, 0, 0, 0, 0, 0, 0, 0, 0],\n",
       "    [0, 0, 0, 0, 0, 0, 0, 0, 0, 0]],\n",
       "   'output': [[8, 0, 0, 0], [0, 8, 0, 0], [0, 0, 8, 0], [0, 0, 0, 8]]},\n",
       "  {'input': [[0, 0, 0, 0, 0, 0, 0, 0, 0, 0, 0, 0],\n",
       "    [0, 0, 0, 8, 0, 0, 0, 0, 0, 0, 0, 0],\n",
       "    [0, 8, 8, 8, 0, 0, 0, 0, 0, 0, 0, 0],\n",
       "    [0, 8, 8, 0, 0, 0, 0, 8, 0, 0, 0, 0],\n",
       "    [0, 0, 0, 0, 0, 8, 8, 8, 8, 0, 0, 0],\n",
       "    [0, 0, 0, 0, 0, 8, 0, 8, 0, 0, 0, 0],\n",
       "    [0, 0, 0, 0, 0, 0, 0, 0, 0, 0, 0, 0],\n",
       "    [0, 0, 0, 0, 0, 0, 0, 0, 0, 0, 0, 0],\n",
       "    [0, 0, 0, 8, 8, 0, 0, 0, 0, 0, 0, 0],\n",
       "    [0, 0, 0, 8, 8, 0, 0, 0, 0, 0, 0, 0],\n",
       "    [0, 0, 0, 0, 0, 0, 0, 0, 0, 0, 0, 0],\n",
       "    [0, 0, 0, 0, 0, 0, 0, 0, 0, 0, 0, 0]],\n",
       "   'output': [[8, 0, 0], [0, 8, 0], [0, 0, 8]]},\n",
       "  {'input': [[0, 0, 0, 0, 0, 0, 0, 0, 0, 0, 0, 0],\n",
       "    [0, 0, 0, 0, 0, 0, 0, 0, 0, 0, 0, 0],\n",
       "    [0, 0, 8, 8, 0, 0, 0, 0, 0, 0, 0, 0],\n",
       "    [0, 0, 8, 8, 8, 0, 0, 0, 8, 0, 0, 0],\n",
       "    [0, 0, 0, 8, 8, 0, 0, 0, 8, 8, 0, 0],\n",
       "    [0, 0, 0, 0, 0, 0, 0, 0, 8, 0, 0, 0],\n",
       "    [0, 0, 0, 0, 0, 0, 0, 0, 0, 0, 0, 0],\n",
       "    [0, 0, 0, 0, 0, 0, 0, 0, 0, 0, 0, 0]],\n",
       "   'output': [[8, 0], [0, 8]]}],\n",
       " 'test': [{'input': [[0, 0, 0, 0, 0, 0, 0, 0, 0, 0, 0, 0],\n",
       "    [0, 0, 0, 0, 0, 0, 0, 0, 0, 8, 0, 0],\n",
       "    [0, 0, 0, 0, 0, 8, 0, 0, 8, 8, 0, 0],\n",
       "    [0, 0, 0, 8, 8, 8, 0, 0, 8, 8, 0, 0],\n",
       "    [0, 0, 0, 0, 8, 8, 0, 0, 0, 0, 0, 0],\n",
       "    [0, 0, 0, 0, 0, 0, 0, 0, 0, 0, 0, 0],\n",
       "    [0, 0, 0, 0, 0, 0, 0, 0, 0, 0, 0, 0],\n",
       "    [0, 0, 0, 0, 0, 0, 0, 0, 0, 0, 0, 0],\n",
       "    [0, 0, 0, 0, 0, 0, 0, 0, 0, 0, 0, 0],\n",
       "    [0, 8, 8, 0, 0, 0, 0, 0, 8, 8, 0, 0],\n",
       "    [0, 0, 8, 8, 0, 0, 0, 0, 8, 8, 8, 0],\n",
       "    [0, 0, 0, 8, 0, 0, 0, 0, 0, 0, 0, 0],\n",
       "    [0, 0, 0, 0, 0, 0, 0, 0, 0, 0, 0, 0],\n",
       "    [0, 0, 0, 0, 0, 0, 8, 8, 0, 0, 0, 0],\n",
       "    [0, 0, 0, 0, 0, 0, 0, 0, 0, 0, 0, 0]],\n",
       "   'output': [[8, 0, 0, 0, 0],\n",
       "    [0, 8, 0, 0, 0],\n",
       "    [0, 0, 8, 0, 0],\n",
       "    [0, 0, 0, 8, 0],\n",
       "    [0, 0, 0, 0, 8]]}]}"
      ]
     },
     "execution_count": 6,
     "metadata": {},
     "output_type": "execute_result"
    }
   ],
   "source": [
    "# load in one file to explore\n",
    "with open(files[0], 'r') as f:\n",
    "    task = json.load(f)\n",
    "task"
   ]
  },
  {
   "cell_type": "code",
   "execution_count": 22,
   "metadata": {},
   "outputs": [
    {
     "data": {
      "text/plain": [
       "[[0, 0, 0, 0, 0, 0, 0, 0, 0, 0],\n",
       " [0, 0, 8, 8, 0, 0, 0, 0, 0, 0],\n",
       " [0, 0, 8, 8, 0, 0, 0, 0, 0, 0],\n",
       " [0, 8, 8, 8, 0, 0, 0, 0, 0, 0],\n",
       " [0, 0, 8, 0, 0, 0, 0, 0, 0, 0],\n",
       " [0, 0, 0, 0, 0, 0, 0, 0, 0, 0],\n",
       " [0, 0, 0, 0, 0, 8, 8, 0, 0, 0],\n",
       " [0, 0, 0, 0, 8, 8, 8, 0, 0, 0],\n",
       " [0, 0, 0, 0, 0, 0, 8, 0, 0, 0],\n",
       " [0, 0, 0, 0, 0, 0, 0, 0, 0, 0],\n",
       " [0, 0, 0, 8, 8, 0, 0, 0, 0, 0],\n",
       " [0, 8, 8, 8, 0, 0, 0, 0, 0, 0],\n",
       " [0, 0, 0, 8, 0, 0, 0, 8, 8, 0],\n",
       " [0, 0, 0, 0, 0, 0, 0, 8, 8, 0],\n",
       " [0, 0, 0, 0, 0, 0, 0, 0, 0, 0],\n",
       " [0, 0, 0, 0, 0, 0, 0, 0, 0, 0]]"
      ]
     },
     "execution_count": 22,
     "metadata": {},
     "output_type": "execute_result"
    }
   ],
   "source": [
    "np.task['train'][0]['input']"
   ]
  },
  {
   "cell_type": "code",
   "execution_count": 8,
   "metadata": {},
   "outputs": [
    {
     "name": "stdout",
     "output_type": "stream",
     "text": [
      "For phase train  - input shape: (16, 10), output shape: (16, 10)\n",
      "For phase train  - input shape: (12, 12), output shape: (12, 12)\n",
      "For phase train  - input shape: (8, 12), output shape: (8, 12)\n",
      "For phase test  - input shape: (15, 12), output shape: (15, 12)\n"
     ]
    }
   ],
   "source": [
    "# Let's take a look at some of the shapes\n",
    "for phase_key in task:\n",
    "    for grid_pair in task[phase_key]: # list of input/output pairs\n",
    "        input_grid_shape = np.array(grid_pair['input']).shape\n",
    "        output_grid_shape = np.array(grid_pair['input']).shape\n",
    "        print('For phase {}  - input shape: {}, output shape: {}'.format(\n",
    "            phase_key,input_grid_shape,output_grid_shape)\n",
    "        )"
   ]
  },
  {
   "cell_type": "markdown",
   "metadata": {},
   "source": [
    "The below exploration is taken directly from https://www.kaggle.com/tarunpaparaju/arc-competition-eda-pytorch-cnn"
   ]
  },
  {
   "cell_type": "code",
   "execution_count": 11,
   "metadata": {},
   "outputs": [],
   "source": [
    "# Get all training jsons\n",
    "train_tasks = []\n",
    "for task_file in files:\n",
    "    with open(task_file, 'r') as f:\n",
    "        task = json.load(f)\n",
    "        train_tasks.append(task)"
   ]
  },
  {
   "cell_type": "code",
   "execution_count": 18,
   "metadata": {},
   "outputs": [
    {
     "data": {
      "image/png": "[encoded data removed]",
      "text/plain": [
       "<Figure size 1080x1080 with 4 Axes>"
      ]
     },
     "metadata": {
      "needs_background": "light"
     },
     "output_type": "display_data"
    },
    {
     "data": {
      "image/png": "[encoded data removed]",
      "text/plain": [
       "<Figure size 1080x1080 with 4 Axes>"
      ]
     },
     "metadata": {
      "needs_background": "light"
     },
     "output_type": "display_data"
    },
    {
     "data": {
      "image/png": "[encoded data removed]",
      "text/plain": [
       "<Figure size 1080x1080 with 4 Axes>"
      ]
     },
     "metadata": {
      "needs_background": "light"
     },
     "output_type": "display_data"
    },
    {
     "data": {
      "image/png": "[encoded data removed]",
      "text/plain": [
       "<Figure size 1080x1080 with 4 Axes>"
      ]
     },
     "metadata": {
      "needs_background": "light"
     },
     "output_type": "display_data"
    },
    {
     "data": {
      "image/png": "[encoded data removed]",
      "text/plain": [
       "<Figure size 1080x1080 with 4 Axes>"
      ]
     },
     "metadata": {
      "needs_background": "light"
     },
     "output_type": "display_data"
    }
   ],
   "source": [
    "for i in [1, 19, 8, 15, 9]:\n",
    "\n",
    "    task = train_tasks[i]\n",
    "\n",
    "    def plot_task(task):\n",
    "        \"\"\"\n",
    "        Plots the first train and test pairs of a specified task,\n",
    "        using same color scheme as the ARC app\n",
    "        \"\"\"\n",
    "        cmap = colors.ListedColormap(\n",
    "            ['#000000', '#0074D9','#FF4136','#2ECC40','#FFDC00',\n",
    "             '#AAAAAA', '#F012BE', '#FF851B', '#7FDBFF', '#870C25'])\n",
    "        norm = colors.Normalize(vmin=0, vmax=9)\n",
    "        fig, ax = plt.subplots(1, 4, figsize=(15,15))\n",
    "        ax[0].imshow(task['train'][0]['input'], cmap=cmap, norm=norm)\n",
    "        width = np.shape(task['train'][0]['input'])[1]\n",
    "        height = np.shape(task['train'][0]['input'])[0]\n",
    "        ax[0].set_xticks(np.arange(0,width))\n",
    "        ax[0].set_yticks(np.arange(0,height))\n",
    "        ax[0].set_xticklabels([])\n",
    "        ax[0].set_yticklabels([])\n",
    "        ax[0].tick_params(length=0)\n",
    "        ax[0].grid(True)\n",
    "        ax[0].set_title('Train Input')\n",
    "        ax[1].imshow(task['train'][0]['output'], cmap=cmap, norm=norm)\n",
    "        width = np.shape(task['train'][0]['output'])[1]\n",
    "        height = np.shape(task['train'][0]['output'])[0]\n",
    "        ax[1].set_xticks(np.arange(0,width))\n",
    "        ax[1].set_yticks(np.arange(0,height))\n",
    "        ax[1].set_xticklabels([])\n",
    "        ax[1].set_yticklabels([])\n",
    "        ax[1].tick_params(length=0)\n",
    "        ax[1].grid(True)\n",
    "        ax[1].set_title('Train Output')\n",
    "        ax[2].imshow(task['test'][0]['input'], cmap=cmap, norm=norm)\n",
    "        width = np.shape(task['test'][0]['input'])[1]\n",
    "        height = np.shape(task['test'][0]['input'])[0]\n",
    "        ax[2].set_xticks(np.arange(0,width))\n",
    "        ax[2].set_yticks(np.arange(0,height))\n",
    "        ax[2].set_xticklabels([])\n",
    "        ax[2].set_yticklabels([])\n",
    "        ax[2].tick_params(length=0)\n",
    "        ax[2].grid(True)\n",
    "        ax[2].set_title('Test Input')\n",
    "        ax[3].imshow(task['test'][0]['output'], cmap=cmap, norm=norm)\n",
    "        width = np.shape(task['test'][0]['output'])[1]\n",
    "        height = np.shape(task['test'][0]['output'])[0]\n",
    "        ax[3].set_xticks(np.arange(0,width))\n",
    "        ax[3].set_yticks(np.arange(0,height))\n",
    "        ax[3].set_xticklabels([])\n",
    "        ax[3].set_yticklabels([])\n",
    "        ax[3].tick_params(length=0)\n",
    "        ax[3].grid(True)\n",
    "        ax[3].set_title('Test Output')\n",
    "        plt.tight_layout()\n",
    "        plt.show()\n",
    "\n",
    "    plot_task(task)"
   ]
  },
  {
   "cell_type": "code",
   "execution_count": null,
   "metadata": {},
   "outputs": [],
   "source": []
  }
 ],
 "metadata": {
  "kernelspec": {
   "display_name": "Python 3",
   "language": "python",
   "name": "python3"
  },
  "language_info": {
   "codemirror_mode": {
    "name": "ipython",
    "version": 3
   },
   "file_extension": ".py",
   "mimetype": "text/x-python",
   "name": "python",
   "nbconvert_exporter": "python",
   "pygments_lexer": "ipython3",
   "version": "3.7.7"
  }
 },
 "nbformat": 4,
 "nbformat_minor": 4
}
